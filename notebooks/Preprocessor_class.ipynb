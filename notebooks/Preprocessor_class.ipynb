{
 "cells": [
  {
   "cell_type": "markdown",
   "id": "8cdc55ec",
   "metadata": {},
   "source": [
    "# Import packages"
   ]
  },
  {
   "cell_type": "code",
   "execution_count": 4,
   "id": "a91970e9",
   "metadata": {},
   "outputs": [],
   "source": [
    "import pandas as pd\n",
    "import numpy as np\n",
    "\n",
    "from sklearn.preprocessing import StandardScaler \n",
    "\n",
    "from sklearn.impute import KNNImputer\n",
    "from sklearn.preprocessing import StandardScaler\n",
    "\n",
    "import warnings\n",
    "warnings.simplefilter('ignore')"
   ]
  },
  {
   "cell_type": "code",
   "execution_count": 50,
   "id": "bf5b5e21",
   "metadata": {},
   "outputs": [],
   "source": [
    "class Preprocessor:\n",
    "    \"\"\"\n",
    "        This class shall  be used to clean and transform the data before training.\n",
    "\n",
    "        \"\"\"\n",
    "\n",
    "    def __init__(self, data): \n",
    "        self.data = data\n",
    "\n",
    "    def remove_columns(self,columns):\n",
    "        \"\"\"\n",
    "                Method Name: remove_columns\n",
    "                Description: This method removes the given columns from a pandas dataframe.\n",
    "                Output: A pandas DataFrame after removing the specified columns.\n",
    "\n",
    "        \"\"\"\n",
    "        \n",
    "        useful_data=self.data.drop(columns, axis=1) # drop the labels specified in the columns\n",
    "        return useful_data\n",
    "       \n",
    "\n",
    "    def separate_label_feature(self, label_column_name):\n",
    "        \"\"\"\n",
    "                        Method Name: separate_label_feature\n",
    "                        Description: This method separates the features and a Label Coulmns.\n",
    "                        Output: Returns two separate Dataframes, one containing features and the other containing Labels .\n",
    "                        On Failure: Raise Exception\n",
    "\n",
    "                        Written By: iNeuron Intelligence\n",
    "                        Version: 1.0\n",
    "                        Revisions: None\n",
    "\n",
    "                \"\"\"\n",
    "        X=data.drop(labels=label_column_name,axis=1) # drop the columns specified and separate the feature columns\n",
    "        y=data[label_column_name] # Filter the Label columns\n",
    "        \n",
    "        #X = pd.DataFrame(X,columns=X.columns)\n",
    "        return X, y\n",
    "    \n",
    "    \n",
    "    def dropUnnecessaryColumns(self, columnNameList):\n",
    "        \"\"\"\n",
    "                        Method Name: is_null_present\n",
    "                        Description: This method drops the unwanted columns as discussed in EDA section.\n",
    "\n",
    "\n",
    "                                \"\"\"\n",
    "        df = self.data.drop(columnNameList,axis=1)\n",
    "        return df\n",
    "\n",
    "\n",
    "    def replaceInvalidValuesWithNull(self):\n",
    "\n",
    "        \"\"\"\n",
    "                               Method Name: is_null_present\n",
    "                                       \"\"\"\n",
    "\n",
    "        for column in self.data.columns:\n",
    "            count = self.data[column][self.data[column] == '?'].count()\n",
    "            print(\"count : \", count)\n",
    "            if count != 0:\n",
    "                self.data[column] = self.data[column].replace('?', np.nan)\n",
    "        return self.data\n",
    "    \n",
    "    def standardScalingData(self, X):\n",
    "\n",
    "        scaler = StandardScaler()\n",
    "        X_scaled = scaler.fit_transform(X)\n",
    "\n",
    "        return X_scaled\n",
    "\n",
    "\n",
    "\n",
    "\n",
    "     "
   ]
  },
  {
   "cell_type": "code",
   "execution_count": 51,
   "id": "732a3289",
   "metadata": {},
   "outputs": [],
   "source": [
    "df = pd.read_csv('../data/jfk_weather_cleaned.csv')"
   ]
  },
  {
   "cell_type": "code",
   "execution_count": 52,
   "id": "45c4dbe5",
   "metadata": {},
   "outputs": [
    {
     "data": {
      "text/html": [
       "<div>\n",
       "<style scoped>\n",
       "    .dataframe tbody tr th:only-of-type {\n",
       "        vertical-align: middle;\n",
       "    }\n",
       "\n",
       "    .dataframe tbody tr th {\n",
       "        vertical-align: top;\n",
       "    }\n",
       "\n",
       "    .dataframe thead th {\n",
       "        text-align: right;\n",
       "    }\n",
       "</style>\n",
       "<table border=\"1\" class=\"dataframe\">\n",
       "  <thead>\n",
       "    <tr style=\"text-align: right;\">\n",
       "      <th></th>\n",
       "      <th>DATE</th>\n",
       "      <th>VISIBILITY</th>\n",
       "      <th>DRYBULBTEMPF</th>\n",
       "      <th>WETBULBTEMPF</th>\n",
       "      <th>DewPointTempF</th>\n",
       "      <th>RelativeHumidity</th>\n",
       "      <th>WindSpeed</th>\n",
       "      <th>WindDirection</th>\n",
       "      <th>StationPressure</th>\n",
       "      <th>SeaLevelPressure</th>\n",
       "      <th>Precip</th>\n",
       "    </tr>\n",
       "  </thead>\n",
       "  <tbody>\n",
       "    <tr>\n",
       "      <th>0</th>\n",
       "      <td>2010-01-01 00:51:00</td>\n",
       "      <td>6.0</td>\n",
       "      <td>33</td>\n",
       "      <td>32</td>\n",
       "      <td>31</td>\n",
       "      <td>92</td>\n",
       "      <td>0</td>\n",
       "      <td>0</td>\n",
       "      <td>29.97</td>\n",
       "      <td>29.99</td>\n",
       "      <td>0.01</td>\n",
       "    </tr>\n",
       "    <tr>\n",
       "      <th>1</th>\n",
       "      <td>2010-01-01 01:51:00</td>\n",
       "      <td>6.0</td>\n",
       "      <td>33</td>\n",
       "      <td>33</td>\n",
       "      <td>32</td>\n",
       "      <td>96</td>\n",
       "      <td>0</td>\n",
       "      <td>0</td>\n",
       "      <td>29.97</td>\n",
       "      <td>29.99</td>\n",
       "      <td>0.02</td>\n",
       "    </tr>\n",
       "  </tbody>\n",
       "</table>\n",
       "</div>"
      ],
      "text/plain": [
       "                  DATE  VISIBILITY  DRYBULBTEMPF  WETBULBTEMPF  DewPointTempF  \\\n",
       "0  2010-01-01 00:51:00         6.0            33            32             31   \n",
       "1  2010-01-01 01:51:00         6.0            33            33             32   \n",
       "\n",
       "   RelativeHumidity  WindSpeed  WindDirection  StationPressure  \\\n",
       "0                92          0              0            29.97   \n",
       "1                96          0              0            29.97   \n",
       "\n",
       "   SeaLevelPressure  Precip  \n",
       "0             29.99    0.01  \n",
       "1             29.99    0.02  "
      ]
     },
     "execution_count": 52,
     "metadata": {},
     "output_type": "execute_result"
    }
   ],
   "source": [
    "df.head(2)"
   ]
  },
  {
   "cell_type": "code",
   "execution_count": 53,
   "id": "acd8c7dd",
   "metadata": {},
   "outputs": [
    {
     "data": {
      "text/plain": [
       "(75083, 11)"
      ]
     },
     "execution_count": 53,
     "metadata": {},
     "output_type": "execute_result"
    }
   ],
   "source": [
    "df.shape"
   ]
  },
  {
   "cell_type": "markdown",
   "id": "9de92df5",
   "metadata": {},
   "source": [
    "# Class"
   ]
  },
  {
   "cell_type": "code",
   "execution_count": 54,
   "id": "0ade8b43",
   "metadata": {},
   "outputs": [],
   "source": [
    "prep = Preprocessor(df)"
   ]
  },
  {
   "cell_type": "code",
   "execution_count": 55,
   "id": "242361ff",
   "metadata": {
    "scrolled": true
   },
   "outputs": [
    {
     "data": {
      "text/plain": [
       "dict_keys(['data'])"
      ]
     },
     "execution_count": 55,
     "metadata": {},
     "output_type": "execute_result"
    }
   ],
   "source": [
    "prep.__dict__.keys()"
   ]
  },
  {
   "cell_type": "code",
   "execution_count": 56,
   "id": "37c145c0",
   "metadata": {},
   "outputs": [
    {
     "data": {
      "text/plain": [
       "(75083, 11)"
      ]
     },
     "execution_count": 56,
     "metadata": {},
     "output_type": "execute_result"
    }
   ],
   "source": [
    "prep.data.shape"
   ]
  },
  {
   "cell_type": "code",
   "execution_count": 57,
   "id": "f10399a0",
   "metadata": {},
   "outputs": [
    {
     "data": {
      "text/plain": [
       "(75083, 10)"
      ]
     },
     "execution_count": 57,
     "metadata": {},
     "output_type": "execute_result"
    }
   ],
   "source": [
    "df_1 = prep.remove_columns(columns = 'WETBULBTEMPF')\n",
    "df_1.shape"
   ]
  },
  {
   "cell_type": "code",
   "execution_count": 58,
   "id": "a81d0f1a",
   "metadata": {},
   "outputs": [
    {
     "data": {
      "text/plain": [
       "(75083, 9)"
      ]
     },
     "execution_count": 58,
     "metadata": {},
     "output_type": "execute_result"
    }
   ],
   "source": [
    "X,y = prep.separate_label_feature(label_column_name= ['DATE','VISIBILITY'])\n",
    "X.shape                       "
   ]
  },
  {
   "cell_type": "code",
   "execution_count": 59,
   "id": "9287cb92",
   "metadata": {},
   "outputs": [
    {
     "name": "stdout",
     "output_type": "stream",
     "text": [
      "count :  0\n",
      "count :  0\n",
      "count :  0\n",
      "count :  0\n",
      "count :  0\n",
      "count :  0\n",
      "count :  0\n",
      "count :  0\n",
      "count :  0\n",
      "count :  0\n",
      "count :  0\n"
     ]
    },
    {
     "data": {
      "text/plain": [
       "(75083, 11)"
      ]
     },
     "execution_count": 59,
     "metadata": {},
     "output_type": "execute_result"
    }
   ],
   "source": [
    "df_3 = prep.replaceInvalidValuesWithNull()\n",
    "df_3.shape # prep.data.shape"
   ]
  },
  {
   "cell_type": "code",
   "execution_count": null,
   "id": "c8c3f0a2",
   "metadata": {},
   "outputs": [],
   "source": [
    "#END"
   ]
  }
 ],
 "metadata": {
  "kernelspec": {
   "display_name": "Python 3 (ipykernel)",
   "language": "python",
   "name": "python3"
  },
  "language_info": {
   "codemirror_mode": {
    "name": "ipython",
    "version": 3
   },
   "file_extension": ".py",
   "mimetype": "text/x-python",
   "name": "python",
   "nbconvert_exporter": "python",
   "pygments_lexer": "ipython3",
   "version": "3.8.6"
  },
  "toc": {
   "base_numbering": 1,
   "nav_menu": {},
   "number_sections": true,
   "sideBar": true,
   "skip_h1_title": false,
   "title_cell": "Table of Contents",
   "title_sidebar": "Contents",
   "toc_cell": false,
   "toc_position": {},
   "toc_section_display": true,
   "toc_window_display": true
  }
 },
 "nbformat": 4,
 "nbformat_minor": 5
}
